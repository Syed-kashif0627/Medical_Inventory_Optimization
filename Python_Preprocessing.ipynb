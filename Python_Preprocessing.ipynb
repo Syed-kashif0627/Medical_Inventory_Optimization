{
 "cells": [
  {
   "cell_type": "code",
   "execution_count": 1,
   "id": "001cc2e8",
   "metadata": {},
   "outputs": [
    {
     "name": "stdout",
     "output_type": "stream",
     "text": [
      "Collecting mysql-connector-python\n",
      "  Downloading mysql_connector_python-8.1.0-cp310-cp310-win_amd64.whl (10.9 MB)\n",
      "     ---------------------------------------- 10.9/10.9 MB 2.8 MB/s eta 0:00:00\n",
      "Collecting protobuf<=4.21.12,>=4.21.1\n",
      "  Downloading protobuf-4.21.12-cp310-abi3-win_amd64.whl (527 kB)\n",
      "     -------------------------------------- 527.0/527.0 kB 1.8 MB/s eta 0:00:00\n",
      "Installing collected packages: protobuf, mysql-connector-python\n",
      "Successfully installed mysql-connector-python-8.1.0 protobuf-4.21.12\n"
     ]
    }
   ],
   "source": [
    "!pip install mysql-connector-python"
   ]
  },
  {
   "cell_type": "code",
   "execution_count": 1,
   "id": "0c5a4a43",
   "metadata": {},
   "outputs": [
    {
     "name": "stderr",
     "output_type": "stream",
     "text": [
      "C:\\Users\\kash4\\AppData\\Local\\Temp\\ipykernel_6812\\1157553624.py:18: UserWarning: pandas only supports SQLAlchemy connectable (engine/connection) or database string URI or sqlite3 DBAPI2 connection. Other DBAPI2 objects are not tested. Please consider using SQLAlchemy.\n",
      "  df=pd.read_sql(query,connection)\n"
     ]
    }
   ],
   "source": [
    "import mysql.connector\n",
    "import pandas as pd\n",
    "\n",
    "#logging into mysql\n",
    "db_config={\n",
    "    'host':'localhost',\n",
    "    'user':'root',\n",
    "    'password':'syed0627',\n",
    "    'database':'test_db',\n",
    "}\n",
    "\n",
    "#create the connection\n",
    "connection=mysql.connector.connect(**db_config)\n",
    "\n",
    "query='select * from finaldata;'\n",
    "\n",
    "#read data from mysql into pandas dataframe\n",
    "df=pd.read_sql(query,connection)"
   ]
  },
  {
   "cell_type": "code",
   "execution_count": 3,
   "id": "eeeac31a",
   "metadata": {},
   "outputs": [],
   "source": [
    "#closing the connection\n",
    "connection.close()"
   ]
  },
  {
   "cell_type": "code",
   "execution_count": 2,
   "id": "73650c22",
   "metadata": {},
   "outputs": [
    {
     "data": {
      "text/html": [
       "<div>\n",
       "<style scoped>\n",
       "    .dataframe tbody tr th:only-of-type {\n",
       "        vertical-align: middle;\n",
       "    }\n",
       "\n",
       "    .dataframe tbody tr th {\n",
       "        vertical-align: top;\n",
       "    }\n",
       "\n",
       "    .dataframe thead th {\n",
       "        text-align: right;\n",
       "    }\n",
       "</style>\n",
       "<table border=\"1\" class=\"dataframe\">\n",
       "  <thead>\n",
       "    <tr style=\"text-align: right;\">\n",
       "      <th></th>\n",
       "      <th>Typeofsales</th>\n",
       "      <th>Patient_ID</th>\n",
       "      <th>Specialisation</th>\n",
       "      <th>Dept</th>\n",
       "      <th>Dateofbill</th>\n",
       "      <th>Quantity</th>\n",
       "      <th>ReturnQuantity</th>\n",
       "      <th>Final_Cost</th>\n",
       "      <th>Final_Sales</th>\n",
       "      <th>RtnMRP</th>\n",
       "      <th>Formulation</th>\n",
       "      <th>DrugName</th>\n",
       "      <th>SubCat</th>\n",
       "      <th>SubCat1</th>\n",
       "    </tr>\n",
       "  </thead>\n",
       "  <tbody>\n",
       "    <tr>\n",
       "      <th>0</th>\n",
       "      <td>Sale</td>\n",
       "      <td>12018098765</td>\n",
       "      <td>Specialisation6</td>\n",
       "      <td>Department1</td>\n",
       "      <td>2022-01-06</td>\n",
       "      <td>1</td>\n",
       "      <td>0</td>\n",
       "      <td>55.406</td>\n",
       "      <td>59.260</td>\n",
       "      <td>0</td>\n",
       "      <td>Form1</td>\n",
       "      <td>ZINC ACETATE 20MG/5ML SYP</td>\n",
       "      <td>SYRUP &amp; SUSPENSION</td>\n",
       "      <td>VITAMINS &amp; MINERALS</td>\n",
       "    </tr>\n",
       "    <tr>\n",
       "      <th>1</th>\n",
       "      <td>Sale</td>\n",
       "      <td>12018103897</td>\n",
       "      <td>Specialisation7</td>\n",
       "      <td>Department1</td>\n",
       "      <td>2022-07-23</td>\n",
       "      <td>1</td>\n",
       "      <td>0</td>\n",
       "      <td>768.638</td>\n",
       "      <td>950.800</td>\n",
       "      <td>0</td>\n",
       "      <td>Form1</td>\n",
       "      <td>CEFTAZIDIME 2GM+AVIBACTAM 500MG</td>\n",
       "      <td>INJECTIONS</td>\n",
       "      <td>ANTI-INFECTIVES</td>\n",
       "    </tr>\n",
       "    <tr>\n",
       "      <th>2</th>\n",
       "      <td>Sale</td>\n",
       "      <td>12018101123</td>\n",
       "      <td>Specialisation2</td>\n",
       "      <td>Department3</td>\n",
       "      <td>2022-06-23</td>\n",
       "      <td>1</td>\n",
       "      <td>0</td>\n",
       "      <td>774.266</td>\n",
       "      <td>4004.214</td>\n",
       "      <td>0</td>\n",
       "      <td>Form2</td>\n",
       "      <td>EPTIFIBATIDE 0.75MG/ML</td>\n",
       "      <td>INJECTIONS</td>\n",
       "      <td>CARDIOVASCULAR &amp; HEMATOPOIETIC SYSTEM</td>\n",
       "    </tr>\n",
       "    <tr>\n",
       "      <th>3</th>\n",
       "      <td>Sale</td>\n",
       "      <td>12018079281</td>\n",
       "      <td>Specialisation40</td>\n",
       "      <td>Department1</td>\n",
       "      <td>2022-03-17</td>\n",
       "      <td>2</td>\n",
       "      <td>0</td>\n",
       "      <td>40.798</td>\n",
       "      <td>81.044</td>\n",
       "      <td>0</td>\n",
       "      <td>Form1</td>\n",
       "      <td>WATER FOR INJECTION 10ML SOLUTION</td>\n",
       "      <td>INJECTIONS</td>\n",
       "      <td>INTRAVENOUS &amp; OTHER STERILE SOLUTIONS</td>\n",
       "    </tr>\n",
       "    <tr>\n",
       "      <th>4</th>\n",
       "      <td>Sale</td>\n",
       "      <td>12018117928</td>\n",
       "      <td>Specialisation5</td>\n",
       "      <td>Department1</td>\n",
       "      <td>2022-12-21</td>\n",
       "      <td>1</td>\n",
       "      <td>0</td>\n",
       "      <td>40.434</td>\n",
       "      <td>40.504</td>\n",
       "      <td>0</td>\n",
       "      <td>Form1</td>\n",
       "      <td>LORAZEPAM 1MG</td>\n",
       "      <td>TABLETS &amp; CAPSULES</td>\n",
       "      <td>CENTRAL NERVOUS SYSTEM</td>\n",
       "    </tr>\n",
       "  </tbody>\n",
       "</table>\n",
       "</div>"
      ],
      "text/plain": [
       "  Typeofsales   Patient_ID    Specialisation         Dept  Dateofbill  \\\n",
       "0        Sale  12018098765   Specialisation6  Department1  2022-01-06   \n",
       "1        Sale  12018103897   Specialisation7  Department1  2022-07-23   \n",
       "2        Sale  12018101123   Specialisation2  Department3  2022-06-23   \n",
       "3        Sale  12018079281  Specialisation40  Department1  2022-03-17   \n",
       "4        Sale  12018117928   Specialisation5  Department1  2022-12-21   \n",
       "\n",
       "   Quantity  ReturnQuantity  Final_Cost  Final_Sales  RtnMRP Formulation  \\\n",
       "0         1               0      55.406       59.260       0       Form1   \n",
       "1         1               0     768.638      950.800       0       Form1   \n",
       "2         1               0     774.266     4004.214       0       Form2   \n",
       "3         2               0      40.798       81.044       0       Form1   \n",
       "4         1               0      40.434       40.504       0       Form1   \n",
       "\n",
       "                            DrugName              SubCat  \\\n",
       "0          ZINC ACETATE 20MG/5ML SYP  SYRUP & SUSPENSION   \n",
       "1    CEFTAZIDIME 2GM+AVIBACTAM 500MG          INJECTIONS   \n",
       "2             EPTIFIBATIDE 0.75MG/ML          INJECTIONS   \n",
       "3  WATER FOR INJECTION 10ML SOLUTION          INJECTIONS   \n",
       "4                      LORAZEPAM 1MG  TABLETS & CAPSULES   \n",
       "\n",
       "                                 SubCat1  \n",
       "0                    VITAMINS & MINERALS  \n",
       "1                        ANTI-INFECTIVES  \n",
       "2  CARDIOVASCULAR & HEMATOPOIETIC SYSTEM  \n",
       "3  INTRAVENOUS & OTHER STERILE SOLUTIONS  \n",
       "4                 CENTRAL NERVOUS SYSTEM  "
      ]
     },
     "execution_count": 2,
     "metadata": {},
     "output_type": "execute_result"
    }
   ],
   "source": [
    "import numpy as np\n",
    "df.head()"
   ]
  },
  {
   "cell_type": "code",
   "execution_count": 7,
   "id": "02a0befc",
   "metadata": {},
   "outputs": [
    {
     "data": {
      "text/html": [
       "<div>\n",
       "<style scoped>\n",
       "    .dataframe tbody tr th:only-of-type {\n",
       "        vertical-align: middle;\n",
       "    }\n",
       "\n",
       "    .dataframe tbody tr th {\n",
       "        vertical-align: top;\n",
       "    }\n",
       "\n",
       "    .dataframe thead th {\n",
       "        text-align: right;\n",
       "    }\n",
       "</style>\n",
       "<table border=\"1\" class=\"dataframe\">\n",
       "  <thead>\n",
       "    <tr style=\"text-align: right;\">\n",
       "      <th></th>\n",
       "      <th>Patient_ID</th>\n",
       "      <th>Quantity</th>\n",
       "      <th>ReturnQuantity</th>\n",
       "      <th>Final_Cost</th>\n",
       "      <th>Final_Sales</th>\n",
       "      <th>RtnMRP</th>\n",
       "    </tr>\n",
       "  </thead>\n",
       "  <tbody>\n",
       "    <tr>\n",
       "      <th>count</th>\n",
       "      <td>1.421800e+04</td>\n",
       "      <td>14218.000000</td>\n",
       "      <td>14218.000000</td>\n",
       "      <td>14218.000000</td>\n",
       "      <td>14218.000000</td>\n",
       "      <td>14218.000000</td>\n",
       "    </tr>\n",
       "    <tr>\n",
       "      <th>mean</th>\n",
       "      <td>1.201809e+10</td>\n",
       "      <td>2.231748</td>\n",
       "      <td>0.291954</td>\n",
       "      <td>124.823957</td>\n",
       "      <td>234.038300</td>\n",
       "      <td>29.132649</td>\n",
       "    </tr>\n",
       "    <tr>\n",
       "      <th>std</th>\n",
       "      <td>2.810229e+04</td>\n",
       "      <td>5.132043</td>\n",
       "      <td>1.643322</td>\n",
       "      <td>464.782794</td>\n",
       "      <td>671.261572</td>\n",
       "      <td>182.265426</td>\n",
       "    </tr>\n",
       "    <tr>\n",
       "      <th>min</th>\n",
       "      <td>1.201800e+10</td>\n",
       "      <td>0.000000</td>\n",
       "      <td>0.000000</td>\n",
       "      <td>40.000000</td>\n",
       "      <td>0.000000</td>\n",
       "      <td>0.000000</td>\n",
       "    </tr>\n",
       "    <tr>\n",
       "      <th>25%</th>\n",
       "      <td>1.201808e+10</td>\n",
       "      <td>1.000000</td>\n",
       "      <td>0.000000</td>\n",
       "      <td>44.928000</td>\n",
       "      <td>47.815000</td>\n",
       "      <td>0.000000</td>\n",
       "    </tr>\n",
       "    <tr>\n",
       "      <th>50%</th>\n",
       "      <td>1.201809e+10</td>\n",
       "      <td>1.000000</td>\n",
       "      <td>0.000000</td>\n",
       "      <td>53.650000</td>\n",
       "      <td>86.424000</td>\n",
       "      <td>0.000000</td>\n",
       "    </tr>\n",
       "    <tr>\n",
       "      <th>75%</th>\n",
       "      <td>1.201811e+10</td>\n",
       "      <td>2.000000</td>\n",
       "      <td>0.000000</td>\n",
       "      <td>77.800000</td>\n",
       "      <td>181.000000</td>\n",
       "      <td>0.000000</td>\n",
       "    </tr>\n",
       "    <tr>\n",
       "      <th>max</th>\n",
       "      <td>1.201813e+10</td>\n",
       "      <td>150.000000</td>\n",
       "      <td>50.000000</td>\n",
       "      <td>33178.000000</td>\n",
       "      <td>39490.000000</td>\n",
       "      <td>8014.000000</td>\n",
       "    </tr>\n",
       "  </tbody>\n",
       "</table>\n",
       "</div>"
      ],
      "text/plain": [
       "         Patient_ID      Quantity  ReturnQuantity    Final_Cost   Final_Sales  \\\n",
       "count  1.421800e+04  14218.000000    14218.000000  14218.000000  14218.000000   \n",
       "mean   1.201809e+10      2.231748        0.291954    124.823957    234.038300   \n",
       "std    2.810229e+04      5.132043        1.643322    464.782794    671.261572   \n",
       "min    1.201800e+10      0.000000        0.000000     40.000000      0.000000   \n",
       "25%    1.201808e+10      1.000000        0.000000     44.928000     47.815000   \n",
       "50%    1.201809e+10      1.000000        0.000000     53.650000     86.424000   \n",
       "75%    1.201811e+10      2.000000        0.000000     77.800000    181.000000   \n",
       "max    1.201813e+10    150.000000       50.000000  33178.000000  39490.000000   \n",
       "\n",
       "             RtnMRP  \n",
       "count  14218.000000  \n",
       "mean      29.132649  \n",
       "std      182.265426  \n",
       "min        0.000000  \n",
       "25%        0.000000  \n",
       "50%        0.000000  \n",
       "75%        0.000000  \n",
       "max     8014.000000  "
      ]
     },
     "execution_count": 7,
     "metadata": {},
     "output_type": "execute_result"
    }
   ],
   "source": [
    "df.describe()"
   ]
  },
  {
   "cell_type": "code",
   "execution_count": 8,
   "id": "5b872de1",
   "metadata": {},
   "outputs": [
    {
     "name": "stdout",
     "output_type": "stream",
     "text": [
      "<class 'pandas.core.frame.DataFrame'>\n",
      "RangeIndex: 14218 entries, 0 to 14217\n",
      "Data columns (total 14 columns):\n",
      " #   Column          Non-Null Count  Dtype  \n",
      "---  ------          --------------  -----  \n",
      " 0   Typeofsales     14218 non-null  object \n",
      " 1   Patient_ID      14218 non-null  int64  \n",
      " 2   Specialisation  14218 non-null  object \n",
      " 3   Dept            14218 non-null  object \n",
      " 4   Dateofbill      14218 non-null  object \n",
      " 5   Quantity        14218 non-null  int64  \n",
      " 6   ReturnQuantity  14218 non-null  int64  \n",
      " 7   Final_Cost      14218 non-null  float64\n",
      " 8   Final_Sales     14218 non-null  float64\n",
      " 9   RtnMRP          14218 non-null  int64  \n",
      " 10  Formulation     14218 non-null  object \n",
      " 11  DrugName        14218 non-null  object \n",
      " 12  SubCat          14218 non-null  object \n",
      " 13  SubCat1         14218 non-null  object \n",
      "dtypes: float64(2), int64(4), object(8)\n",
      "memory usage: 1.5+ MB\n"
     ]
    }
   ],
   "source": [
    "df.info()"
   ]
  },
  {
   "cell_type": "code",
   "execution_count": 14,
   "id": "a94fedd8",
   "metadata": {},
   "outputs": [
    {
     "name": "stdout",
     "output_type": "stream",
     "text": [
      "<class 'pandas.core.frame.DataFrame'>\n",
      "RangeIndex: 14218 entries, 0 to 14217\n",
      "Data columns (total 14 columns):\n",
      " #   Column          Non-Null Count  Dtype         \n",
      "---  ------          --------------  -----         \n",
      " 0   Typeofsales     14218 non-null  object        \n",
      " 1   Patient_ID      14218 non-null  int64         \n",
      " 2   Specialisation  14218 non-null  object        \n",
      " 3   Dept            14218 non-null  object        \n",
      " 4   Dateofbill      14218 non-null  datetime64[ns]\n",
      " 5   Quantity        14218 non-null  int64         \n",
      " 6   ReturnQuantity  14218 non-null  int64         \n",
      " 7   Final_Cost      14218 non-null  float64       \n",
      " 8   Final_Sales     14218 non-null  float64       \n",
      " 9   RtnMRP          14218 non-null  int64         \n",
      " 10  Formulation     14218 non-null  object        \n",
      " 11  DrugName        14218 non-null  object        \n",
      " 12  SubCat          14218 non-null  object        \n",
      " 13  SubCat1         14218 non-null  object        \n",
      "dtypes: datetime64[ns](1), float64(2), int64(4), object(7)\n",
      "memory usage: 1.5+ MB\n"
     ]
    }
   ],
   "source": [
    "#changing the type of dateofbill column\n",
    "df['Dateofbill']=pd.to_datetime(df['Dateofbill'])\n",
    "df.info()\n"
   ]
  },
  {
   "cell_type": "code",
   "execution_count": 15,
   "id": "67e89e36",
   "metadata": {},
   "outputs": [
    {
     "data": {
      "text/plain": [
       "14192"
      ]
     },
     "execution_count": 15,
     "metadata": {},
     "output_type": "execute_result"
    }
   ],
   "source": [
    "#Removing all duplicates from the dataset\n",
    "df.drop_duplicates(inplace=True)\n",
    "#checking the no.of rows after deleting duplicate rows\n",
    "df.shape[0]"
   ]
  },
  {
   "cell_type": "code",
   "execution_count": 21,
   "id": "48b39c18",
   "metadata": {},
   "outputs": [
    {
     "data": {
      "text/plain": [
       "Typeofsales          0\n",
       "Patient_ID           0\n",
       "Specialisation       0\n",
       "Dept                 0\n",
       "Dateofbill           0\n",
       "Quantity             0\n",
       "ReturnQuantity       0\n",
       "Final_Cost           0\n",
       "Final_Sales          0\n",
       "RtnMRP               0\n",
       "Formulation        650\n",
       "DrugName          1659\n",
       "SubCat            1659\n",
       "SubCat1           1682\n",
       "dtype: int64"
      ]
     },
     "execution_count": 21,
     "metadata": {},
     "output_type": "execute_result"
    }
   ],
   "source": [
    "#replacing empty cell values with null in data frame\n",
    "df1=df.replace('',np.nan)\n",
    "#checking the no.of null values\n",
    "df1.isnull().sum()"
   ]
  },
  {
   "cell_type": "code",
   "execution_count": 24,
   "id": "08f79610",
   "metadata": {
    "scrolled": true
   },
   "outputs": [
    {
     "data": {
      "text/plain": [
       "Typeofsales       0\n",
       "Patient_ID        0\n",
       "Specialisation    0\n",
       "Dept              0\n",
       "Dateofbill        0\n",
       "Quantity          0\n",
       "ReturnQuantity    0\n",
       "Final_Cost        0\n",
       "Final_Sales       0\n",
       "RtnMRP            0\n",
       "Formulation       0\n",
       "DrugName          0\n",
       "SubCat            0\n",
       "SubCat1           0\n",
       "dtype: int64"
      ]
     },
     "execution_count": 24,
     "metadata": {},
     "output_type": "execute_result"
    }
   ],
   "source": [
    "#from the above there are 1659 transaction in which we dont have the record of Drugname \n",
    "#removing them would not be ideal because we may loose the imp data of sales and cost\n",
    "# so we replace null with 'unknown' string\n",
    "df.replace('','Unknown',inplace=True)\n",
    "df.isnull().sum()"
   ]
  },
  {
   "cell_type": "code",
   "execution_count": 5,
   "id": "7ab69b6f",
   "metadata": {
    "scrolled": false
   },
   "outputs": [
    {
     "data": {
      "text/plain": [
       "array([[<Axes: title={'center': 'Patient_ID'}>,\n",
       "        <Axes: title={'center': 'Quantity'}>],\n",
       "       [<Axes: title={'center': 'ReturnQuantity'}>,\n",
       "        <Axes: title={'center': 'Final_Cost'}>],\n",
       "       [<Axes: title={'center': 'Final_Sales'}>,\n",
       "        <Axes: title={'center': 'RtnMRP'}>]], dtype=object)"
      ]
     },
     "execution_count": 5,
     "metadata": {},
     "output_type": "execute_result"
    },
    {
     "data": {
      "image/png": "[encoded data removed]",
      "text/plain": [
       "<Figure size 2000x1500 with 6 Axes>"
      ]
     },
     "metadata": {},
     "output_type": "display_data"
    }
   ],
   "source": [
    "import pandas as pd\n",
    "import matplotlib.pyplot as plt\n",
    "\n",
    "#visualizing the frequency count plt\n",
    "df.hist(bins=50,figsize=(20,15))\n"
   ]
  },
  {
   "cell_type": "code",
   "execution_count": 44,
   "id": "cb263828",
   "metadata": {},
   "outputs": [
    {
     "name": "stdout",
     "output_type": "stream",
     "text": [
      "['Typeofsales' 'Patient_ID' 'Specialisation' 'Dept' 'Dateofbill'\n",
      " 'Quantity' 'ReturnQuantity' 'Final_Cost' 'Final_Sales' 'RtnMRP'\n",
      " 'Formulation' 'DrugName' 'SubCat' 'SubCat1']\n"
     ]
    },
    {
     "data": {
      "text/plain": [
       "Sale      12516\n",
       "Return     1676\n",
       "Name: Typeofsales, dtype: int64"
      ]
     },
     "execution_count": 44,
     "metadata": {},
     "output_type": "execute_result"
    }
   ],
   "source": [
    "df['Dept'].value_counts()\n",
    "df['Patient_ID'].value_counts()\n",
    "print(df.columns.values)\n",
    "#df['Specialisation'].value_counts()\n",
    "df['Dateofbill'].value_counts()\n",
    "df['Typeofsales'].value_counts()"
   ]
  },
  {
   "cell_type": "code",
   "execution_count": 51,
   "id": "5878fe62",
   "metadata": {},
   "outputs": [
    {
     "name": "stdout",
     "output_type": "stream",
     "text": [
      "58\n",
      "3\n"
     ]
    }
   ],
   "source": [
    "#print no.of distinct values\n",
    "print(df['Specialisation'].nunique())\n",
    "print(df['Dept'].nunique())"
   ]
  },
  {
   "cell_type": "code",
   "execution_count": 62,
   "id": "1983da15",
   "metadata": {
    "scrolled": true
   },
   "outputs": [
    {
     "data": {
      "text/plain": [
       "Unknown                                                     162\n",
       "SODIUM CHLORIDE IVF 100ML                                   112\n",
       "SODIUM CHLORIDE 0.9%                                         95\n",
       "MULTIPLE ELECTROLYTES 500ML IVF                              88\n",
       "PANTOPRAZOLE 40MG INJ                                        57\n",
       "                                                           ... \n",
       "BENZYDAMINE 0.15%W/V                                          1\n",
       "CEFIXIME 200MG                                                1\n",
       "CALCIUM 250MG + VITAMIN D3 125IU                              1\n",
       "DEXTROSE 5%W/V + SODIUM CHLORIDE 0.45%W/V 500ML IV FLUID      1\n",
       "LABETALOL 20MG INJ                                            1\n",
       "Name: DrugName, Length: 250, dtype: int64"
      ]
     },
     "execution_count": 62,
     "metadata": {},
     "output_type": "execute_result"
    }
   ],
   "source": [
    "#getting the highest no.of drugs where Final_sales is zero or which has been returned frequently\n",
    "df.loc[df['Final_Sales']==0,'DrugName'].value_counts()"
   ]
  },
  {
   "cell_type": "code",
   "execution_count": 48,
   "id": "35d486bd",
   "metadata": {},
   "outputs": [
    {
     "data": {
      "text/plain": [
       "DrugName\n",
       "                                      436786.550\n",
       "HUMAN ALBUMIN 25% INJ                 314856.400\n",
       "MEROPENEM 1GM INJ                     219485.942\n",
       "LIPOSOMAL AMPHOTERICIN B 50MG INJ     105262.600\n",
       "PARACETAMOL 1GM IV INJ                 94146.758\n",
       "TIGECYCLINE 50MG INJ                   91407.900\n",
       "MULTIPLE ELECTROLYTES 500ML IVF        88019.200\n",
       "MICAFUNGIN 50MG INJ                    85760.032\n",
       "PIPERACILLIN 4GM+ TAZOBACTAM 500MG     75899.548\n",
       "SODIUM CHLORIDE IVF 100ML              61403.952\n",
       "Name: Final_Sales, dtype: float64"
      ]
     },
     "execution_count": 48,
     "metadata": {},
     "output_type": "execute_result"
    }
   ],
   "source": [
    "# Calculate the total sales for each drug by grouping the DataFrame by 'DrugName'\n",
    "drug_sales = df.groupby('DrugName')['Final_Sales'].sum().sort_values(ascending=False)\n",
    "\n",
    "# Display the top high-selling drugs and their total sales\n",
    "drug_sales.head(10)\n",
    "\n",
    "# By focusing on high-selling drugs, you can ensure their availability in the inventory and implement strategies to promote\n",
    "# and highlight these products. This can lead to increased revenue and a positive impact on overall \n",
    "# profitability. Continuous monitoring of sales performance will also help you stay updated on changes in the \n",
    "# popularity of drugs and adapt your strategies accordingly."
   ]
  },
  {
   "cell_type": "code",
   "execution_count": 67,
   "id": "a343d2b4",
   "metadata": {
    "scrolled": true
   },
   "outputs": [
    {
     "data": {
      "text/html": [
       "<div>\n",
       "<style scoped>\n",
       "    .dataframe tbody tr th:only-of-type {\n",
       "        vertical-align: middle;\n",
       "    }\n",
       "\n",
       "    .dataframe tbody tr th {\n",
       "        vertical-align: top;\n",
       "    }\n",
       "\n",
       "    .dataframe thead th {\n",
       "        text-align: right;\n",
       "    }\n",
       "</style>\n",
       "<table border=\"1\" class=\"dataframe\">\n",
       "  <thead>\n",
       "    <tr style=\"text-align: right;\">\n",
       "      <th></th>\n",
       "      <th>Patient_ID</th>\n",
       "      <th>Quantity</th>\n",
       "      <th>ReturnQuantity</th>\n",
       "      <th>Final_Cost</th>\n",
       "      <th>Final_Sales</th>\n",
       "      <th>RtnMRP</th>\n",
       "    </tr>\n",
       "  </thead>\n",
       "  <tbody>\n",
       "    <tr>\n",
       "      <th>Patient_ID</th>\n",
       "      <td>1.000000</td>\n",
       "      <td>-0.001877</td>\n",
       "      <td>0.003644</td>\n",
       "      <td>-0.000503</td>\n",
       "      <td>-0.006306</td>\n",
       "      <td>-0.001417</td>\n",
       "    </tr>\n",
       "    <tr>\n",
       "      <th>Quantity</th>\n",
       "      <td>-0.001877</td>\n",
       "      <td>1.000000</td>\n",
       "      <td>-0.077237</td>\n",
       "      <td>0.017216</td>\n",
       "      <td>0.360254</td>\n",
       "      <td>-0.069524</td>\n",
       "    </tr>\n",
       "    <tr>\n",
       "      <th>ReturnQuantity</th>\n",
       "      <td>0.003644</td>\n",
       "      <td>-0.077237</td>\n",
       "      <td>1.000000</td>\n",
       "      <td>-0.003975</td>\n",
       "      <td>-0.061833</td>\n",
       "      <td>0.509335</td>\n",
       "    </tr>\n",
       "    <tr>\n",
       "      <th>Final_Cost</th>\n",
       "      <td>-0.000503</td>\n",
       "      <td>0.017216</td>\n",
       "      <td>-0.003975</td>\n",
       "      <td>1.000000</td>\n",
       "      <td>0.865893</td>\n",
       "      <td>0.153145</td>\n",
       "    </tr>\n",
       "    <tr>\n",
       "      <th>Final_Sales</th>\n",
       "      <td>-0.006306</td>\n",
       "      <td>0.360254</td>\n",
       "      <td>-0.061833</td>\n",
       "      <td>0.865893</td>\n",
       "      <td>1.000000</td>\n",
       "      <td>-0.055658</td>\n",
       "    </tr>\n",
       "    <tr>\n",
       "      <th>RtnMRP</th>\n",
       "      <td>-0.001417</td>\n",
       "      <td>-0.069524</td>\n",
       "      <td>0.509335</td>\n",
       "      <td>0.153145</td>\n",
       "      <td>-0.055658</td>\n",
       "      <td>1.000000</td>\n",
       "    </tr>\n",
       "  </tbody>\n",
       "</table>\n",
       "</div>"
      ],
      "text/plain": [
       "                Patient_ID  Quantity  ReturnQuantity  Final_Cost  Final_Sales  \\\n",
       "Patient_ID        1.000000 -0.001877        0.003644   -0.000503    -0.006306   \n",
       "Quantity         -0.001877  1.000000       -0.077237    0.017216     0.360254   \n",
       "ReturnQuantity    0.003644 -0.077237        1.000000   -0.003975    -0.061833   \n",
       "Final_Cost       -0.000503  0.017216       -0.003975    1.000000     0.865893   \n",
       "Final_Sales      -0.006306  0.360254       -0.061833    0.865893     1.000000   \n",
       "RtnMRP           -0.001417 -0.069524        0.509335    0.153145    -0.055658   \n",
       "\n",
       "                  RtnMRP  \n",
       "Patient_ID     -0.001417  \n",
       "Quantity       -0.069524  \n",
       "ReturnQuantity  0.509335  \n",
       "Final_Cost      0.153145  \n",
       "Final_Sales    -0.055658  \n",
       "RtnMRP          1.000000  "
      ]
     },
     "execution_count": 67,
     "metadata": {},
     "output_type": "execute_result"
    }
   ],
   "source": [
    "#finding Correlation betwen columns\n",
    "corr_matrix=df.corr(numeric_only=True)\n",
    "corr_matrix\n",
    "# corr_matrix['Quantity'].sort_values(ascending=False)"
   ]
  },
  {
   "cell_type": "code",
   "execution_count": 69,
   "id": "d059b8d9",
   "metadata": {
    "scrolled": true
   },
   "outputs": [
    {
     "data": {
      "text/plain": [
       "Final_Sales       1.000000\n",
       "Final_Cost        0.865893\n",
       "Quantity          0.360254\n",
       "Patient_ID       -0.006306\n",
       "RtnMRP           -0.055658\n",
       "ReturnQuantity   -0.061833\n",
       "Name: Final_Sales, dtype: float64"
      ]
     },
     "execution_count": 69,
     "metadata": {},
     "output_type": "execute_result"
    }
   ],
   "source": [
    "#From the correlation matrix we observe that Final_sales & Final_cost are highly correlated\n",
    "corr_matrix['Final_Sales'].sort_values(ascending=False)"
   ]
  },
  {
   "cell_type": "code",
   "execution_count": 77,
   "id": "328f6ce7",
   "metadata": {},
   "outputs": [
    {
     "data": {
      "text/plain": [
       "<Axes: xlabel='Final_Cost', ylabel='Final_Sales'>"
      ]
     },
     "execution_count": 77,
     "metadata": {},
     "output_type": "execute_result"
    },
    {
     "data": {
      "image/png": "[encoded data removed]",
      "text/plain": [
       "<Figure size 640x480 with 1 Axes>"
      ]
     },
     "metadata": {},
     "output_type": "display_data"
    }
   ],
   "source": [
    "#Visualizing the correlationg between Final_sales & Final_cost\n",
    "df.plot(kind='scatter',x='Final_Cost',y='Final_Sales',alpha=0.8)"
   ]
  },
  {
   "cell_type": "code",
   "execution_count": 73,
   "id": "b2b11238",
   "metadata": {},
   "outputs": [
    {
     "data": {
      "text/html": [
       "<div>\n",
       "<style scoped>\n",
       "    .dataframe tbody tr th:only-of-type {\n",
       "        vertical-align: middle;\n",
       "    }\n",
       "\n",
       "    .dataframe tbody tr th {\n",
       "        vertical-align: top;\n",
       "    }\n",
       "\n",
       "    .dataframe thead th {\n",
       "        text-align: right;\n",
       "    }\n",
       "</style>\n",
       "<table border=\"1\" class=\"dataframe\">\n",
       "  <thead>\n",
       "    <tr style=\"text-align: right;\">\n",
       "      <th></th>\n",
       "      <th>Dept</th>\n",
       "      <th>Final_Sales</th>\n",
       "    </tr>\n",
       "  </thead>\n",
       "  <tbody>\n",
       "    <tr>\n",
       "      <th>0</th>\n",
       "      <td>Department1</td>\n",
       "      <td>2965963.874</td>\n",
       "    </tr>\n",
       "    <tr>\n",
       "      <th>1</th>\n",
       "      <td>Department2</td>\n",
       "      <td>279242.898</td>\n",
       "    </tr>\n",
       "    <tr>\n",
       "      <th>2</th>\n",
       "      <td>Department3</td>\n",
       "      <td>71983.144</td>\n",
       "    </tr>\n",
       "  </tbody>\n",
       "</table>\n",
       "</div>"
      ],
      "text/plain": [
       "          Dept  Final_Sales\n",
       "0  Department1  2965963.874\n",
       "1  Department2   279242.898\n",
       "2  Department3    71983.144"
      ]
     },
     "execution_count": 73,
     "metadata": {},
     "output_type": "execute_result"
    }
   ],
   "source": [
    "Total_sales = df.groupby('Dept')['Final_Sales'].sum().reset_index()\n",
    "Total_sales\n"
   ]
  },
  {
   "cell_type": "code",
   "execution_count": 27,
   "id": "382836b9",
   "metadata": {},
   "outputs": [
    {
     "data": {
      "text/plain": [
       "Index(['Typeofsales', 'Patient_ID', 'Specialisation', 'Dept', 'Dateofbill',\n",
       "       'Quantity', 'ReturnQuantity', 'Final_Cost', 'Final_Sales', 'RtnMRP',\n",
       "       'Formulation', 'DrugName', 'SubCat', 'SubCat1'],\n",
       "      dtype='object')"
      ]
     },
     "execution_count": 27,
     "metadata": {},
     "output_type": "execute_result"
    }
   ],
   "source": [
    "\n",
    "df.columns"
   ]
  },
  {
   "cell_type": "code",
   "execution_count": 39,
   "id": "1291780d",
   "metadata": {
    "scrolled": true
   },
   "outputs": [
    {
     "name": "stdout",
     "output_type": "stream",
     "text": [
      "                              DrugName  Final_Cost  Final_Sales  Profit  \\\n",
      "4                        LORAZEPAM 1MG      40.434       40.504   0.070   \n",
      "5                     SALBUTAMOL 2.5MG      47.902        0.000 -47.902   \n",
      "6                   FUROSEMIDE 10MG/ML      41.862       42.218   0.356   \n",
      "14                   VITAMIN K 1ML INJ      41.658       43.200   1.542   \n",
      "18                SODIUM CHLORIDE 0.9%      70.016        0.000 -70.016   \n",
      "...                                ...         ...          ...     ...   \n",
      "14203                   EPHEDRINE 30MG      44.928       46.760   1.832   \n",
      "14204                PARACETAMOL 150MG      43.176        0.000 -43.176   \n",
      "14205                   CEFOTAXIME 1GM      50.640        0.000 -50.640   \n",
      "14209  LIGNOCAINE HYDROCHLORIDE 2% INJ      45.448       47.196   1.748   \n",
      "14212               PREDNISOLONE 10 MG      43.570       44.144   0.574   \n",
      "\n",
      "       Profit_Margin  \n",
      "4           0.001728  \n",
      "5               -inf  \n",
      "6           0.008432  \n",
      "14          0.035694  \n",
      "18              -inf  \n",
      "...              ...  \n",
      "14203       0.039179  \n",
      "14204           -inf  \n",
      "14205           -inf  \n",
      "14209       0.037037  \n",
      "14212       0.013003  \n",
      "\n",
      "[3722 rows x 5 columns]\n",
      "total_profit is:1552809.5359999998\n"
     ]
    },
    {
     "data": {
      "text/plain": [
       "-188903.726"
      ]
     },
     "execution_count": 39,
     "metadata": {},
     "output_type": "execute_result"
    }
   ],
   "source": [
    "# Calculate the profit for each drug (Final_Sales - Final_Cost)\n",
    "df['Profit'] = df['Final_Sales'] - df['Final_Cost']\n",
    "\n",
    "# Calculate the profit margin for each drug (Profit / Final_Sales)\n",
    "df['Profit_Margin'] = df['Profit'] / df['Final_Sales']\n",
    "\n",
    "# Analyze profit margins and identify opportunities for pricing adjustments\n",
    "low_margin_drugs = df[df['Profit_Margin'] < 0.05]  # Example threshold for low margin drugs\n",
    "\n",
    "# Display the low margin drugs and their profit margins\n",
    "print(low_margin_drugs[['DrugName', 'Final_Cost', 'Final_Sales', 'Profit', 'Profit_Margin']])\n",
    "# By analyzing the 'low_margin_drugs' DataFrame, you can gain insights into which drugs may need pricing adjustments \n",
    "# or other strategies to increase profitability. You may consider implementing promotions, discounts, or volume-based pricing \n",
    "# for low-margin drugs, or explore ways to reduce costs associated with these products.\n",
    "# It is observed that in more than 3500 cases the profit margin was less than 5% \n",
    "# Therefore necessary strategies can be implemented to adjust those profit margin \n",
    "#calcute total profit\n",
    "total_profit=df['Profit'].sum()\n",
    "print(f'total_profit is:{total_profit}')\n",
    "\n",
    "Low_mar_prof=low_margin_drugs['Profit'].sum()\n",
    "Low_mar_prof\n",
    "# by adjusting  the profit margin we can increase the profit by nearly 2 lakhs \n"
   ]
  },
  {
   "cell_type": "code",
   "execution_count": 88,
   "id": "02802f15",
   "metadata": {},
   "outputs": [
    {
     "data": {
      "image/png": "[encoded data removed]",
      "text/plain": [
       "<Figure size 800x600 with 1 Axes>"
      ]
     },
     "metadata": {},
     "output_type": "display_data"
    }
   ],
   "source": [
    "df = df[np.isfinite(df['Profit_Margin'])]\n",
    "plt.figure(figsize=(8, 6))\n",
    "plt.hist(df['Profit_Margin'], bins=10, color='lightblue', edgecolor='black')\n",
    "plt.xlabel('Profit Margin')\n",
    "plt.ylabel('Frequency')\n",
    "plt.title('Distribution of Profit Margins for Drugs')\n",
    "plt.show()"
   ]
  },
  {
   "cell_type": "code",
   "execution_count": 64,
   "id": "5a2f78b1",
   "metadata": {},
   "outputs": [
    {
     "data": {
      "text/html": [
       "<div>\n",
       "<style scoped>\n",
       "    .dataframe tbody tr th:only-of-type {\n",
       "        vertical-align: middle;\n",
       "    }\n",
       "\n",
       "    .dataframe tbody tr th {\n",
       "        vertical-align: top;\n",
       "    }\n",
       "\n",
       "    .dataframe thead th {\n",
       "        text-align: right;\n",
       "    }\n",
       "</style>\n",
       "<table border=\"1\" class=\"dataframe\">\n",
       "  <thead>\n",
       "    <tr style=\"text-align: right;\">\n",
       "      <th></th>\n",
       "      <th>DrugName</th>\n",
       "      <th>ReturnQuantity</th>\n",
       "      <th>RtnMRP</th>\n",
       "      <th>Return_Rate</th>\n",
       "    </tr>\n",
       "  </thead>\n",
       "  <tbody>\n",
       "    <tr>\n",
       "      <th>4486</th>\n",
       "      <td>ALPRAZOLAM 0.25MG</td>\n",
       "      <td>1</td>\n",
       "      <td>40</td>\n",
       "      <td>0.025000</td>\n",
       "    </tr>\n",
       "    <tr>\n",
       "      <th>1891</th>\n",
       "      <td>LORAZEPAM 1MG</td>\n",
       "      <td>1</td>\n",
       "      <td>40</td>\n",
       "      <td>0.025000</td>\n",
       "    </tr>\n",
       "    <tr>\n",
       "      <th>8549</th>\n",
       "      <td></td>\n",
       "      <td>4</td>\n",
       "      <td>162</td>\n",
       "      <td>0.024691</td>\n",
       "    </tr>\n",
       "    <tr>\n",
       "      <th>7736</th>\n",
       "      <td></td>\n",
       "      <td>20</td>\n",
       "      <td>810</td>\n",
       "      <td>0.024691</td>\n",
       "    </tr>\n",
       "    <tr>\n",
       "      <th>8999</th>\n",
       "      <td>WATER FOR INJECTION 10ML SOLUTION</td>\n",
       "      <td>2</td>\n",
       "      <td>81</td>\n",
       "      <td>0.024691</td>\n",
       "    </tr>\n",
       "    <tr>\n",
       "      <th>...</th>\n",
       "      <td>...</td>\n",
       "      <td>...</td>\n",
       "      <td>...</td>\n",
       "      <td>...</td>\n",
       "    </tr>\n",
       "    <tr>\n",
       "      <th>1021</th>\n",
       "      <td>MULTIPLE ELECTROLYTES 500ML IVF</td>\n",
       "      <td>1</td>\n",
       "      <td>97</td>\n",
       "      <td>0.010309</td>\n",
       "    </tr>\n",
       "    <tr>\n",
       "      <th>9375</th>\n",
       "      <td>MULTIPLE ELECTROLYTES 500ML IVF</td>\n",
       "      <td>1</td>\n",
       "      <td>97</td>\n",
       "      <td>0.010309</td>\n",
       "    </tr>\n",
       "    <tr>\n",
       "      <th>3784</th>\n",
       "      <td>MULTIPLE ELECTROLYTES 500ML IVF</td>\n",
       "      <td>2</td>\n",
       "      <td>194</td>\n",
       "      <td>0.010309</td>\n",
       "    </tr>\n",
       "    <tr>\n",
       "      <th>8016</th>\n",
       "      <td>MULTIPLE ELECTROLYTES 500ML IVF</td>\n",
       "      <td>1</td>\n",
       "      <td>97</td>\n",
       "      <td>0.010309</td>\n",
       "    </tr>\n",
       "    <tr>\n",
       "      <th>6215</th>\n",
       "      <td>ESOMEPRAZOLE 40MG</td>\n",
       "      <td>2</td>\n",
       "      <td>199</td>\n",
       "      <td>0.010050</td>\n",
       "    </tr>\n",
       "  </tbody>\n",
       "</table>\n",
       "<p>1308 rows × 4 columns</p>\n",
       "</div>"
      ],
      "text/plain": [
       "                               DrugName  ReturnQuantity  RtnMRP  Return_Rate\n",
       "4486                  ALPRAZOLAM 0.25MG               1      40     0.025000\n",
       "1891                      LORAZEPAM 1MG               1      40     0.025000\n",
       "8549                                                  4     162     0.024691\n",
       "7736                                                 20     810     0.024691\n",
       "8999  WATER FOR INJECTION 10ML SOLUTION               2      81     0.024691\n",
       "...                                 ...             ...     ...          ...\n",
       "1021    MULTIPLE ELECTROLYTES 500ML IVF               1      97     0.010309\n",
       "9375    MULTIPLE ELECTROLYTES 500ML IVF               1      97     0.010309\n",
       "3784    MULTIPLE ELECTROLYTES 500ML IVF               2     194     0.010309\n",
       "8016    MULTIPLE ELECTROLYTES 500ML IVF               1      97     0.010309\n",
       "6215                  ESOMEPRAZOLE 40MG               2     199     0.010050\n",
       "\n",
       "[1308 rows x 4 columns]"
      ]
     },
     "execution_count": 64,
     "metadata": {},
     "output_type": "execute_result"
    }
   ],
   "source": [
    "df1=df[df['ReturnQuantity']>0]\n",
    "df2=df[df['RtnMRP']>0]\n",
    "# Calculate the return rate for each product (ReturnQuantity / RtnMRP)\n",
    "df['Return_Rate'] = df1['ReturnQuantity']/ df2['RtnMRP']\n",
    "\n",
    "# Sort the products based on their return rate in descending order\n",
    "sortreturn = df.sort_values(by='Return_Rate', ascending=False)\n",
    "\n",
    "# Get the products with high return rates (You can adjust the threshold as needed)\n",
    "high_returnRates = sortreturn[sortreturn['Return_Rate'] > 0.01]\n",
    "\n",
    "# Display the products with high return rates and their return quantities and sales\n",
    "high_returnRates[['DrugName', 'ReturnQuantity', 'RtnMRP', 'Return_Rate']]\n",
    "#By Analyzing High_return_rates we can investigate the root cause and improve customer engagement"
   ]
  },
  {
   "cell_type": "code",
   "execution_count": 84,
   "id": "ce256b82",
   "metadata": {},
   "outputs": [
    {
     "data": {
      "text/plain": [
       "<Axes: title={'center': 'Return rate for Drugs with High Return Rates'}, xlabel='DrugName', ylabel='Return_Rate'>"
      ]
     },
     "execution_count": 84,
     "metadata": {},
     "output_type": "execute_result"
    },
    {
     "data": {
      "image/png": "[encoded data removed]",
      "text/plain": [
       "<Figure size 1000x600 with 1 Axes>"
      ]
     },
     "metadata": {},
     "output_type": "display_data"
    }
   ],
   "source": [
    "#visualizing Retrun rate for products with High return Rates\n",
    "high_returnRates.plot(kind='scatter',x='DrugName',y='Return_Rate',figsize=(10,6),title='Return rate for Drugs with High Return Rates')"
   ]
  },
  {
   "cell_type": "code",
   "execution_count": 73,
   "id": "6d88b44c",
   "metadata": {},
   "outputs": [
    {
     "name": "stdout",
     "output_type": "stream",
     "text": [
      "Patient-wise Bounce Rate:\n",
      "Patient_ID\n",
      "12017998218    0.000000\n",
      "12017998261    0.000000\n",
      "12017998278    0.000000\n",
      "12017998291         inf\n",
      "12017998321    6.779661\n",
      "                 ...   \n",
      "12018125255    0.000000\n",
      "12018125266    0.000000\n",
      "12018125339    0.000000\n",
      "12018125341    0.000000\n",
      "12018125353    0.000000\n",
      "Length: 4883, dtype: float64\n",
      "\n",
      "Overall Bounce Rate:\n",
      "13.08\n"
     ]
    }
   ],
   "source": [
    "# Bounce rate analysis\n",
    "\n",
    "# Calculate the total quantity purchased by each patient\n",
    "total_quantity_purchased = df.groupby('Patient_ID')['Quantity'].sum()\n",
    "\n",
    "# Calculate the total quantity returned by each patient\n",
    "total_quantity_returned = df.groupby('Patient_ID')['ReturnQuantity'].sum()\n",
    "\n",
    "# Calculate the bounce rate for each patient\n",
    "bounce_rate = (total_quantity_returned / total_quantity_purchased) * 100\n",
    "\n",
    "# Calculate the overall bounce rate for all patients\n",
    "overall_bounce_rate = (df['ReturnQuantity'].sum() / df['Quantity'].sum()) * 100\n",
    "print(\"Patient-wise Bounce Rate:\")\n",
    "print(bounce_rate)\n",
    "\n",
    "print(\"\\nOverall Bounce Rate:\")\n",
    "print(round(overall_bounce_rate,2))\n",
    "# It is observed that overall bounce rate is 13% means 13% of patients tend to return the drugs after purchase\n",
    "# This analysis will provide insights into the percentage of patients who returned drugs after purchase, \n",
    "# allowing you to identify areas for improvement to reduce the bounce rate and improve patient satisfaction.\n"
   ]
  },
  {
   "cell_type": "code",
   "execution_count": null,
   "id": "5b0177a2",
   "metadata": {},
   "outputs": [],
   "source": []
  }
 ],
 "metadata": {
  "kernelspec": {
   "display_name": "Python 3 (ipykernel)",
   "language": "python",
   "name": "python3"
  },
  "language_info": {
   "codemirror_mode": {
    "name": "ipython",
    "version": 3
   },
   "file_extension": ".py",
   "mimetype": "text/x-python",
   "name": "python",
   "nbconvert_exporter": "python",
   "pygments_lexer": "ipython3",
   "version": "3.10.9"
  }
 },
 "nbformat": 4,
 "nbformat_minor": 5
}
